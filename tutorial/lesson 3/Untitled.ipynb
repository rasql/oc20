{
 "cells": [
  {
   "cell_type": "markdown",
   "id": "impressed-astrology",
   "metadata": {},
   "source": [
    "# Titre\n",
    "\n",
    "C'est du markup."
   ]
  },
  {
   "cell_type": "markdown",
   "id": "armed-basketball",
   "metadata": {},
   "source": [
    "## Sous-titre"
   ]
  },
  {
   "cell_type": "markdown",
   "id": "interim-pierce",
   "metadata": {},
   "source": [
    "### Styles\n",
    "\n",
    "*italique*, **gras** et `code`"
   ]
  },
  {
   "cell_type": "code",
   "execution_count": 3,
   "id": "positive-stevens",
   "metadata": {},
   "outputs": [],
   "source": [
    "x = \"hello\""
   ]
  },
  {
   "cell_type": "code",
   "execution_count": 4,
   "id": "chicken-kitty",
   "metadata": {},
   "outputs": [
    {
     "data": {
      "text/plain": [
       "'hello'"
      ]
     },
     "execution_count": 4,
     "metadata": {},
     "output_type": "execute_result"
    }
   ],
   "source": [
    "x"
   ]
  },
  {
   "cell_type": "code",
   "execution_count": 5,
   "id": "corrected-escape",
   "metadata": {},
   "outputs": [
    {
     "name": "stdout",
     "output_type": "stream",
     "text": [
      "hello\n"
     ]
    }
   ],
   "source": [
    "print(x)"
   ]
  },
  {
   "cell_type": "code",
   "execution_count": 6,
   "id": "diverse-hammer",
   "metadata": {},
   "outputs": [
    {
     "data": {
      "text/plain": [
       "'hello'"
      ]
     },
     "execution_count": 6,
     "metadata": {},
     "output_type": "execute_result"
    }
   ],
   "source": [
    "x"
   ]
  },
  {
   "cell_type": "code",
   "execution_count": 7,
   "id": "democratic-phoenix",
   "metadata": {},
   "outputs": [
    {
     "data": {
      "text/plain": [
       "\"c'est bien\""
      ]
     },
     "execution_count": 7,
     "metadata": {},
     "output_type": "execute_result"
    }
   ],
   "source": [
    "\"c'est bien\""
   ]
  },
  {
   "cell_type": "code",
   "execution_count": null,
   "id": "ecological-rates",
   "metadata": {},
   "outputs": [],
   "source": []
  }
 ],
 "metadata": {
  "kernelspec": {
   "display_name": "Python 3",
   "language": "python",
   "name": "python3"
  },
  "language_info": {
   "codemirror_mode": {
    "name": "ipython",
    "version": 3
   },
   "file_extension": ".py",
   "mimetype": "text/x-python",
   "name": "python",
   "nbconvert_exporter": "python",
   "pygments_lexer": "ipython3",
   "version": "3.7.9"
  }
 },
 "nbformat": 4,
 "nbformat_minor": 5
}
